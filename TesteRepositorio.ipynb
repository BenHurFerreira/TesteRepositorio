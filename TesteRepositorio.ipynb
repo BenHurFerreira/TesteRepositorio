{
  "nbformat": 4,
  "nbformat_minor": 0,
  "metadata": {
    "colab": {
      "provenance": []
    },
    "kernelspec": {
      "name": "python3",
      "display_name": "Python 3"
    },
    "language_info": {
      "name": "python"
    }
  },
  "cells": [
    {
      "cell_type": "code",
      "execution_count": null,
      "metadata": {
        "id": "bIi1ZBxCls_Z"
      },
      "outputs": [],
      "source": [
        "Esse arquivo está vazio, apenas para teste = )\n",
        "\n",
        "Suba em uma pasta no seu computador, de preferência uma caminho de pastas igual o da aula e tente refazer os comandos usando os passos do material"
      ]
    }
  ]
}